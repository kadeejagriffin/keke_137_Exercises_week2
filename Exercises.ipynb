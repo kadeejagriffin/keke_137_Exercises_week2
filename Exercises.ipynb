{
 "cells": [
  {
   "cell_type": "markdown",
   "metadata": {},
   "source": [
    "### Exercise 1"
   ]
  },
  {
   "cell_type": "markdown",
   "metadata": {},
   "source": [
    "Given an array of positive integers `nums`, return a list of all of the negative integers.<br>\n",
    "Ex. 1<br>\n",
    "nums = [1, 3, 5, 7, 8]<br>\n",
    "Expected Output: [-1, -3, -5, -7, -8]<br>\n",
    "\n",
    "Ex. 2<br>\n",
    "nums = [100, 534, 32, 15, 77, 222, 788, 345, 75645, 22]<br>\n",
    "Expected Output: [-100, -534, -32, -15, -77, -222, -788, -345, -75645, -22]<br>"
   ]
  },
  {
   "cell_type": "code",
   "execution_count": 41,
   "metadata": {},
   "outputs": [
    {
     "ename": "NameError",
     "evalue": "name 'neg_nums' is not defined",
     "output_type": "error",
     "traceback": [
      "\u001b[0;31m---------------------------------------------------------------------------\u001b[0m",
      "\u001b[0;31mNameError\u001b[0m                                 Traceback (most recent call last)",
      "\u001b[1;32m/Users/kadeejagriffin/Downloads/Exercises.ipynb Cell 3\u001b[0m line \u001b[0;36m1\n\u001b[1;32m     <a href='vscode-notebook-cell:/Users/kadeejagriffin/Downloads/Exercises.ipynb#W2sZmlsZQ%3D%3D?line=11'>12</a>\u001b[0m             \u001b[39mreturn\u001b[39;00m(neg_num)\n\u001b[1;32m     <a href='vscode-notebook-cell:/Users/kadeejagriffin/Downloads/Exercises.ipynb#W2sZmlsZQ%3D%3D?line=13'>14</a>\u001b[0m nums \u001b[39m=\u001b[39m [\u001b[39m1\u001b[39m, \u001b[39m3\u001b[39m, \u001b[39m5\u001b[39m, \u001b[39m7\u001b[39m, \u001b[39m8\u001b[39m]\n\u001b[0;32m---> <a href='vscode-notebook-cell:/Users/kadeejagriffin/Downloads/Exercises.ipynb#W2sZmlsZQ%3D%3D?line=14'>15</a>\u001b[0m \u001b[39mprint\u001b[39m(neg_nums)\n",
      "\u001b[0;31mNameError\u001b[0m: name 'neg_nums' is not defined"
     ]
    }
   ],
   "source": [
    "#negative integer( all neg num, from given list)\n",
    "#same as og list\n",
    "#nums\n",
    "#output\n",
    "#nums - nums in list(positive)\n",
    "#Output-neg numbers\n",
    "\n",
    "def neg_num(nums):\n",
    "    output = []\n",
    "    for num in nums:\n",
    "        if nums :\n",
    "            return(neg_num)\n",
    "    \n",
    "nums = [1, 3, 5, 7, 8]\n",
    "print(neg_nums)\n",
    "\n"
   ]
  },
  {
   "cell_type": "markdown",
   "metadata": {},
   "source": [
    "### Exercise 2"
   ]
  },
  {
   "cell_type": "markdown",
   "metadata": {},
   "source": [
    "Given a string, return a list of all of the digits in the string.<br>\n",
    "Ex. 1 <br>\n",
    "address = \"123 Real Street, Apt. 2, Springfield, OR 43498\"<br>\n",
    "Expected Output: ['1', '2', '3', '2', '4', '3', '4', '9', '8']<br>\n",
    "\n",
    "Ex. 2 <br>\n",
    "sentence = \"My phone number is (555) 555-4321\"<br>\n",
    "Expected Output: ['5', '5', '5', '5', '5', '5', '4', '3', '2', '1']<br>"
   ]
  },
  {
   "cell_type": "code",
   "execution_count": 11,
   "metadata": {},
   "outputs": [
    {
     "name": "stdout",
     "output_type": "stream",
     "text": [
      "['1', '2', '3', '2', '4', '3', '4', '9', '8']\n",
      "None\n"
     ]
    }
   ],
   "source": [
    "# Hint: Look at the string methods! -- help(str)\n",
    "# Look at all characters in scentence \n",
    "# Each time that we see a number we write it down\n",
    "# Give numbers back to user\n",
    "\n",
    "def get_nums(txt):\n",
    "    output = []\n",
    "    for chars in txt:\n",
    "        if chars.isdigit():\n",
    "            output.append(chars) \n",
    "            \n",
    "    return output\n",
    "\n",
    "\n",
    "test = \"123 Real Street, Apt. 2, Springfield, OR 43498\"\n",
    "x = get_nums(test)\n",
    "print(x)"
   ]
  },
  {
   "cell_type": "code",
   "execution_count": 2,
   "metadata": {},
   "outputs": [
    {
     "name": "stdout",
     "output_type": "stream",
     "text": [
      "{'Apples': '1.50', 'Kiwi': '2.00', 'Banana': '1.75', 'Orange': '2.25', 'Grapes': '4.00', 'Blueberries': '3.50'}\n"
     ]
    }
   ],
   "source": [
    "\n",
    "\n",
    "# dictionary = a collection of {key:value} pairs ordered and changeable. No duplicates\n",
    "\n",
    "items = {'Apples': '1.50',\n",
    "        'Kiwi': '2.00',\n",
    "        'Banana': '1.75',\n",
    "        'Orange': '2.25',\n",
    "        'Grapes': '4.00',\n",
    "        'Blueberries': '3.50'}\n",
    "\n",
    "print(items)\n",
    "\n",
    "\n",
    "\n",
    "\n",
    "\n",
    "\n",
    "\n",
    "\n",
    "\n",
    "\n",
    "\n",
    "\n",
    "\n",
    "\n",
    "\n",
    "\n",
    "\n",
    "\n",
    "\n",
    "\n",
    "\n",
    "\n"
   ]
  },
  {
   "cell_type": "markdown",
   "metadata": {},
   "source": [
    "### Exercise 3"
   ]
  },
  {
   "cell_type": "markdown",
   "metadata": {},
   "source": [
    "Given a string `digits`, return a **string** of the digits + 1<br>\n",
    "\n",
    "Ex. 1<br>\n",
    "digits = '123'<br>\n",
    "Expected Output: '124'<br>\n",
    "\n",
    "Ex. 2<br>\n",
    "digits = '99'<br>\n",
    "Expected Output: '100'<br>"
   ]
  },
  {
   "cell_type": "code",
   "execution_count": null,
   "metadata": {},
   "outputs": [],
   "source": []
  }
 ],
 "metadata": {
  "kernelspec": {
   "display_name": "Python 3",
   "language": "python",
   "name": "python3"
  },
  "language_info": {
   "codemirror_mode": {
    "name": "ipython",
    "version": 3
   },
   "file_extension": ".py",
   "mimetype": "text/x-python",
   "name": "python",
   "nbconvert_exporter": "python",
   "pygments_lexer": "ipython3",
   "version": "3.11.6"
  }
 },
 "nbformat": 4,
 "nbformat_minor": 4
}
