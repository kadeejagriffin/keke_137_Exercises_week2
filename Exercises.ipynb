{
 "cells": [
  {
   "cell_type": "markdown",
   "metadata": {},
   "source": [
    "### Exercise 1"
   ]
  },
  {
   "cell_type": "markdown",
   "metadata": {},
   "source": [
    "Given an array of positive integers `nums`, return a list of all of the negative integers.<br>\n",
    "Ex. 1<br>\n",
    "nums = [1, 3, 5, 7, 8]<br>\n",
    "Expected Output: [-1, -3, -5, -7, -8]<br>\n",
    "\n",
    "Ex. 2<br>\n",
    "nums = [100, 534, 32, 15, 77, 222, 788, 345, 75645, 22]<br>\n",
    "Expected Output: [-100, -534, -32, -15, -77, -222, -788, -345, -75645, -22]<br>"
   ]
  },
  {
   "cell_type": "code",
   "execution_count": 15,
   "metadata": {},
   "outputs": [
    {
     "name": "stdout",
     "output_type": "stream",
     "text": [
      "-1\n",
      "-3\n",
      "-5\n",
      "-7\n",
      "-8\n"
     ]
    }
   ],
   "source": [
    "#negative integer( all neg num, from given list)\n",
    "#same as og list\n",
    "#nums\n",
    "#output\n",
    "#nums - nums in list(positive)\n",
    "#Output-neg numbers\n",
    "\n",
    "# for nums in lsit of nums, \n",
    "    #if nums in list are positve\n",
    "    #then return negative integr?\n",
    "\n",
    "nums = [1, 3, 5, 7, 8]\n",
    "# for i in nums:\n",
    "#     neg_num = i * (-1)\n",
    "#     print(neg_num)\n",
    "\n",
    "\n",
    "def neg_numbers(nums):\n",
    "    for i in nums:\n",
    "        neg_num = i * (-1)\n",
    "        print(neg_num)\n",
    "        \n",
    "neg_numbers(nums)"
   ]
  },
  {
   "cell_type": "markdown",
   "metadata": {},
   "source": [
    "### Exercise 2"
   ]
  },
  {
   "cell_type": "markdown",
   "metadata": {},
   "source": [
    "Given a string, return a list of all of the digits in the string.<br>\n",
    "Ex. 1 <br>\n",
    "address = \"123 Real Street, Apt. 2, Springfield, OR 43498\"<br>\n",
    "Expected Output: ['1', '2', '3', '2', '4', '3', '4', '9', '8']<br>\n",
    "\n",
    "Ex. 2 <br>\n",
    "sentence = \"My phone number is (555) 555-4321\"<br>\n",
    "Expected Output: ['5', '5', '5', '5', '5', '5', '4', '3', '2', '1']<br>"
   ]
  },
  {
   "cell_type": "code",
   "execution_count": 11,
   "metadata": {},
   "outputs": [
    {
     "name": "stdout",
     "output_type": "stream",
     "text": [
      "['1', '2', '3', '2', '4', '3', '4', '9', '8']\n",
      "None\n"
     ]
    }
   ],
   "source": [
    "# Hint: Look at the string methods! -- help(str)\n",
    "# Look at all characters in scentence \n",
    "# Each time that we see a number we write it down\n",
    "# Give numbers back to user\n",
    "\n",
    "def get_nums(txt):\n",
    "    output = []\n",
    "    for chars in txt:\n",
    "        if chars.isdigit():\n",
    "            output.append(chars) \n",
    "            \n",
    "    return output\n",
    "\n",
    "\n",
    "test = \"123 Real Street, Apt. 2, Springfield, OR 43498\"\n",
    "x = get_nums(test)\n",
    "print(x)"
   ]
  },
  {
   "cell_type": "code",
   "execution_count": 16,
   "metadata": {},
   "outputs": [
    {
     "name": "stdout",
     "output_type": "stream",
     "text": [
      "Apples: 1.50\n",
      "Kiwi: 2.00\n",
      "Banana: 1.75\n",
      "Orange: 2.25\n",
      "Grapes: 4.00\n",
      "Blueberries: 3.50\n",
      "None\n"
     ]
    }
   ],
   "source": [
    "\n",
    "\n",
    "# dictionary = a collection of {key:value} pairs ordered and changeable. No duplicates\n",
    "\n",
    "items = {'Apples': '1.50',\n",
    "        'Kiwi': '2.00',\n",
    "        'Banana': '1.75',\n",
    "        'Orange': '2.25',\n",
    "        'Grapes': '4.00',\n",
    "        'Blueberries': '3.50'}\n",
    "\n",
    "# print(items)\n",
    "\n",
    "\n",
    "\n",
    "def print_dict(my_dict):\n",
    "    for key, value in my_dict.items():\n",
    "        print(f'{key}: {value}')\n",
    "        \n",
    "print(print_dict(items))\n",
    "\n",
    "\n",
    "\n",
    "\n",
    "\n",
    "\n",
    "\n",
    "\n",
    "\n",
    "\n",
    "\n",
    "\n",
    "\n",
    "\n",
    "\n",
    "\n",
    "\n",
    "\n",
    "\n",
    "\n"
   ]
  },
  {
   "cell_type": "markdown",
   "metadata": {},
   "source": [
    "### Exercise 3"
   ]
  },
  {
   "cell_type": "markdown",
   "metadata": {},
   "source": [
    "Given a string `digits`, return a **string** of the digits + 1<br>\n",
    "\n",
    "Ex. 1<br>\n",
    "digits = '123'<br>\n",
    "Expected Output: '124'<br>\n",
    "\n",
    "Ex. 2<br>\n",
    "digits = '99'<br>\n",
    "Expected Output: '100'<br>"
   ]
  },
  {
   "cell_type": "code",
   "execution_count": 24,
   "metadata": {},
   "outputs": [
    {
     "name": "stdout",
     "output_type": "stream",
     "text": [
      "124\n"
     ]
    }
   ],
   "source": [
    "\n",
    "digits = 123\n",
    "# digits += 1\n",
    "# print(digits)\n",
    "\n",
    "def number_string(digits):\n",
    "    number = int(digits)\n",
    "    add_number = number + 1\n",
    "    result = str(add_number)\n",
    "    \n",
    "    return result \n",
    "    \n",
    "result1 = number_string('123')\n",
    "print(result1)\n",
    "\n",
    "\n"
   ]
  }
 ],
 "metadata": {
  "kernelspec": {
   "display_name": "Python 3",
   "language": "python",
   "name": "python3"
  },
  "language_info": {
   "codemirror_mode": {
    "name": "ipython",
    "version": 3
   },
   "file_extension": ".py",
   "mimetype": "text/x-python",
   "name": "python",
   "nbconvert_exporter": "python",
   "pygments_lexer": "ipython3",
   "version": "3.11.7"
  }
 },
 "nbformat": 4,
 "nbformat_minor": 4
}
